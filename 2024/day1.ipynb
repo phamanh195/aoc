{
 "cells": [
  {
   "cell_type": "code",
   "execution_count": 1,
   "id": "8427643e-02ab-43d1-a072-8310b0917bfd",
   "metadata": {},
   "outputs": [],
   "source": [
    "example_data = \"\"\"\n",
    "3   4\n",
    "4   3\n",
    "2   5\n",
    "1   3\n",
    "3   9\n",
    "3   3\n",
    "\"\"\"\n",
    "\n",
    "with open(\"day1.txt\", \"rt\") as f: \n",
    "    data = f.read()"
   ]
  },
  {
   "cell_type": "code",
   "execution_count": 2,
   "id": "e6b824d9-0183-4c90-94c8-e7ffd1468e87",
   "metadata": {},
   "outputs": [
    {
     "name": "stdout",
     "output_type": "stream",
     "text": [
      "11\n"
     ]
    }
   ],
   "source": [
    "def parse(raw_data: str):\n",
    "    left, right = [], []\n",
    "    for row in raw_data.strip().splitlines():\n",
    "        l, r = tuple(map(int, row.strip().split()))\n",
    "        left.append(l)\n",
    "        right.append(r)\n",
    "    return left, right\n",
    "\n",
    "def solve1(raw_data: str):\n",
    "    left, right = parse(raw_data)\n",
    "    left.sort()\n",
    "    right.sort()\n",
    "    total = 0\n",
    "    for i in range(len(left)):\n",
    "        total += abs(right[i] - left[i])\n",
    "    return total\n",
    "\n",
    "print(solve1(example_data))"
   ]
  },
  {
   "cell_type": "code",
   "execution_count": 3,
   "id": "d59b9c2e-12ac-426b-a30e-4d261368ba78",
   "metadata": {},
   "outputs": [
    {
     "name": "stdout",
     "output_type": "stream",
     "text": [
      "1873376\n"
     ]
    }
   ],
   "source": [
    "print(solve1(data))"
   ]
  },
  {
   "cell_type": "code",
   "execution_count": 4,
   "id": "85687491-cdb0-4496-93a9-c4bc6d591869",
   "metadata": {},
   "outputs": [
    {
     "name": "stdout",
     "output_type": "stream",
     "text": [
      "31\n"
     ]
    }
   ],
   "source": [
    "from collections import defaultdict\n",
    "\n",
    "def solve2(raw_data: str):\n",
    "    left, right = defaultdict(int), defaultdict(int)\n",
    "    for row in raw_data.strip().splitlines():\n",
    "        l, r = tuple(map(int, row.strip().split()))\n",
    "        left[l] += 1\n",
    "        right[r] += 1\n",
    "    total = 0\n",
    "    for lnum, lcount in left.items():\n",
    "        rcount = right.get(lnum, 0)\n",
    "        s = lnum * lcount * rcount\n",
    "        total += s\n",
    "    return total\n",
    "\n",
    "print(solve2(example_data))"
   ]
  },
  {
   "cell_type": "code",
   "execution_count": 5,
   "id": "dc6faafe-f1a1-466c-98fa-346bfc92b8f6",
   "metadata": {},
   "outputs": [
    {
     "name": "stdout",
     "output_type": "stream",
     "text": [
      "18997088\n"
     ]
    }
   ],
   "source": [
    "print(solve2(data))"
   ]
  },
  {
   "cell_type": "code",
   "execution_count": null,
   "id": "1a84c716-1bde-4cef-93b1-394d9418931c",
   "metadata": {},
   "outputs": [],
   "source": []
  },
  {
   "cell_type": "code",
   "execution_count": null,
   "id": "c59aa6e0-fe7c-49fd-a991-5f96348d8a72",
   "metadata": {},
   "outputs": [],
   "source": []
  },
  {
   "cell_type": "code",
   "execution_count": null,
   "id": "a6623c52-a1ad-45bc-9298-3cb72d87552d",
   "metadata": {},
   "outputs": [],
   "source": []
  },
  {
   "cell_type": "code",
   "execution_count": null,
   "id": "c77a1274-dde9-44b3-9ca0-c7aedb0d5312",
   "metadata": {},
   "outputs": [],
   "source": []
  },
  {
   "cell_type": "code",
   "execution_count": null,
   "id": "42c64d9c-b623-4b0e-83c1-4f67931d1313",
   "metadata": {},
   "outputs": [],
   "source": []
  },
  {
   "cell_type": "code",
   "execution_count": null,
   "id": "f0fd4ebe-9fa6-42f4-8eae-96a373695df7",
   "metadata": {},
   "outputs": [],
   "source": []
  },
  {
   "cell_type": "code",
   "execution_count": null,
   "id": "18222cb8-faf7-42ca-a655-bcf30c6fa5a1",
   "metadata": {},
   "outputs": [],
   "source": []
  }
 ],
 "metadata": {
  "kernelspec": {
   "display_name": "Python 3 (ipykernel)",
   "language": "python",
   "name": "python3"
  },
  "language_info": {
   "codemirror_mode": {
    "name": "ipython",
    "version": 3
   },
   "file_extension": ".py",
   "mimetype": "text/x-python",
   "name": "python",
   "nbconvert_exporter": "python",
   "pygments_lexer": "ipython3",
   "version": "3.10.12"
  }
 },
 "nbformat": 4,
 "nbformat_minor": 5
}
